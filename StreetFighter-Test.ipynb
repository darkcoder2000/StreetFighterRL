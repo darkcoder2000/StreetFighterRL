{
 "cells": [
  {
   "cell_type": "markdown",
   "source": [
    "# Street Fighter Tester Notebook\n",
    "This notebook can be run to test models side by side during training runs. "
   ],
   "metadata": {}
  },
  {
   "cell_type": "markdown",
   "source": [
    "# Setup Sonic"
   ],
   "metadata": {}
  },
  {
   "cell_type": "code",
   "execution_count": 2,
   "source": [
    "import retro"
   ],
   "outputs": [],
   "metadata": {}
  },
  {
   "cell_type": "code",
   "execution_count": 3,
   "source": [
    "from gym import Env\r\n",
    "from gym.spaces import Discrete, Box, MultiBinary\r\n",
    "import numpy as np\r\n",
    "import cv2"
   ],
   "outputs": [],
   "metadata": {}
  },
  {
   "cell_type": "code",
   "execution_count": 4,
   "source": [
    "# Create custom environment \r\n",
    "class StreetFighter(Env): \r\n",
    "    def __init__(self):\r\n",
    "        super().__init__()\r\n",
    "        # Specify action space and observation space \r\n",
    "        self.observation_space = Box(low=0, high=255, shape=(84, 84, 1), dtype=np.uint8)\r\n",
    "        self.action_space = MultiBinary(12)\r\n",
    "        # Startup and instance of the game \r\n",
    "        self.game = retro.make(game='StreetFighterIISpecialChampionEdition-Genesis', use_restricted_actions=retro.Actions.FILTERED)\r\n",
    "    \r\n",
    "    def reset(self):\r\n",
    "        # Return the first frame \r\n",
    "        obs = self.game.reset()\r\n",
    "        obs = self.preprocess(obs) \r\n",
    "        self.previous_frame = obs \r\n",
    "        \r\n",
    "        # Create a attribute to hold the score delta \r\n",
    "        self.score = 0 \r\n",
    "        return obs\r\n",
    "    \r\n",
    "    def preprocess(self, observation): \r\n",
    "        # Grayscaling \r\n",
    "        gray = cv2.cvtColor(observation, cv2.COLOR_BGR2GRAY)\r\n",
    "        # Resize \r\n",
    "        resize = cv2.resize(gray, (84,84), interpolation=cv2.INTER_CUBIC)\r\n",
    "        # Add the channels value\r\n",
    "        channels = np.reshape(resize, (84,84,1))\r\n",
    "        return channels \r\n",
    "    \r\n",
    "    def step(self, action): \r\n",
    "        # Take a step \r\n",
    "        obs, reward, done, info = self.game.step(action)\r\n",
    "        obs = self.preprocess(obs) \r\n",
    "        \r\n",
    "        # Frame delta \r\n",
    "        frame_delta = obs - self.previous_frame\r\n",
    "        self.previous_frame = obs \r\n",
    "        \r\n",
    "        # Reshape the reward function\r\n",
    "        reward = info['score'] - self.score \r\n",
    "        self.score = info['score'] \r\n",
    "        \r\n",
    "        return frame_delta, reward, done, info\r\n",
    "    \r\n",
    "    def render(self, *args, **kwargs):\r\n",
    "        self.game.render()\r\n",
    "        \r\n",
    "    def close(self):\r\n",
    "        self.game.close()"
   ],
   "outputs": [],
   "metadata": {}
  },
  {
   "cell_type": "code",
   "execution_count": 5,
   "source": [
    "import time\r\n",
    "# Import PPO for algos\r\n",
    "from stable_baselines3 import PPO\r\n",
    "# Evaluate Policy\r\n",
    "from stable_baselines3.common.evaluation import evaluate_policy\r\n",
    "# Import Wrappers\r\n",
    "from stable_baselines3.common.monitor import Monitor\r\n",
    "from stable_baselines3.common.vec_env import DummyVecEnv, VecFrameStack, VecTransposeImage"
   ],
   "outputs": [],
   "metadata": {}
  },
  {
   "cell_type": "code",
   "execution_count": 9,
   "source": [
    "#5.46m is the model that performed best 6.16m pretty good as well\r\n",
    "model = PPO.load('./train/best_model_2500000.zip')\r\n",
    "#model = PPO.load('./train_nodelta/best_model_170000.zip')"
   ],
   "outputs": [],
   "metadata": {}
  },
  {
   "cell_type": "code",
   "execution_count": 7,
   "source": [
    "env = StreetFighter()\r\n",
    "env = Monitor(env)\r\n",
    "env = DummyVecEnv([lambda: env])\r\n",
    "env = VecFrameStack(env, 4, channels_order='last')"
   ],
   "outputs": [],
   "metadata": {}
  },
  {
   "cell_type": "code",
   "execution_count": 10,
   "source": [
    "for episode in range(1): \r\n",
    "    obs = env.reset()\r\n",
    "    done = False\r\n",
    "    total_reward = 0\r\n",
    "    while not done: \r\n",
    "        action, _ = model.predict(obs)\r\n",
    "        obs, reward, done, info = env.step(action)\r\n",
    "        env.render()\r\n",
    "        # time.sleep(0.01)\r\n",
    "        total_reward += reward\r\n",
    "    print('Total Reward for episode {} is {}'.format(total_reward, episode))\r\n",
    "    time.sleep(2)"
   ],
   "outputs": [
    {
     "output_type": "stream",
     "name": "stdout",
     "text": [
      "Total Reward for episode [39700.] is 0\n"
     ]
    }
   ],
   "metadata": {
    "tags": []
   }
  },
  {
   "cell_type": "code",
   "execution_count": 17,
   "source": [
    "env.close()"
   ],
   "outputs": [],
   "metadata": {}
  }
 ],
 "metadata": {
  "kernelspec": {
   "name": "python3",
   "display_name": "Python 3.7.11 64-bit ('RL_StreetFighter': conda)"
  },
  "language_info": {
   "codemirror_mode": {
    "name": "ipython",
    "version": 3
   },
   "file_extension": ".py",
   "mimetype": "text/x-python",
   "name": "python",
   "nbconvert_exporter": "python",
   "pygments_lexer": "ipython3",
   "version": "3.7.11"
  },
  "interpreter": {
   "hash": "2c9740a6f3fc52b289b32476242515cd7c0f9c8cb457fab8e321f0cbde83c084"
  }
 },
 "nbformat": 4,
 "nbformat_minor": 4
}